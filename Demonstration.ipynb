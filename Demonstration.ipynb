{
 "cells": [
  {
   "cell_type": "code",
   "execution_count": null,
   "id": "342fad0e-6c6d-431c-ab56-67c57fc4e70b",
   "metadata": {},
   "outputs": [],
   "source": [
    "import os\n",
    "import torch\n",
    "import numpy as np\n",
    "import pandas as pd\n",
    "import scanpy as sc\n",
    "import scipy.sparse as sp\n",
    "import SpatialEx.preprocess as pp\n",
    "from SpatialEx.utils import Compute_metrics, Compute_MoransI\n",
    "from SpatialEx.SpatialEx_pyG import Train_SpatialEx, Train_SpatialExP, Train_SpatialExP_Big"
   ]
  },
  {
   "cell_type": "markdown",
   "id": "adf099fb-a711-48e7-b3ae-5a78fd8361f1",
   "metadata": {},
   "source": [
    "# **1. SpatialEx Translates Histology to Omics at Single-Cell Resolution**"
   ]
  },
  {
   "cell_type": "markdown",
   "id": "198e4ef5-c992-4350-b297-ccc47e4cf0d6",
   "metadata": {},
   "source": [
    "## 1.1 Train the model"
   ]
  },
  {
   "cell_type": "code",
   "execution_count": null,
   "id": "b7973d6e-189a-4825-969d-73fd2680e0f5",
   "metadata": {},
   "outputs": [],
   "source": [
    "# preprocess slice 1\n",
    "file_path1 = './datasets/Human_Breast_Cancer_Rep1/cell_feature_matrix.h5'\n",
    "obs_path1 = './datasets/Human_Breast_Cancer_Rep1/cells.csv'\n",
    "img_path1 = './datasets/Human_Breast_Cancer_Rep1/Xenium_FFPE_Human_Breast_Cancer_Rep1_he_image.ome.tif'\n",
    "transform_mtx_path1 = './datasets/Human_Breast_Cancer_Rep1/Xenium_FFPE_Human_Breast_Cancer_Rep1_he_imagealignment.csv'\n",
    "resolution = 64\n",
    "device = 'cuda'\n",
    "\n",
    "adata1 = pp.Read_Xenium(file_path1, obs_path1)\n",
    "adata1 = pp.Preprocess_adata(adata1)\n",
    "img, scale = pp.Read_HE_image(img_path1)\n",
    "print('read H&E image successfully')\n",
    "\n",
    "transform_mtx = pd.read_csv(transform_mtx_path1, header=None).values\n",
    "adata1 = pp.Register_physical_to_pixel(adata1, transform_mtx, scale=scale)\n",
    "he_patches, adata1 = pp.Tiling_HE_patches(resolution, adata1, img)\n",
    "\n",
    "# put the pretrained weights of the image encoder\n",
    "image_encoder_dir = './image_encoder/' \n",
    "os.makedirs(image_encoder_dir, exist_ok=True)  # create directory if it does not exist\n",
    "\n",
    "# When using the uni encoder, make sure to place the 'pytorch_model.bin' file in the 'image_encoder' folder. \n",
    "# Here, we implement the uni, gigapath, phikon, resnet50, resnet101, and resnet152.\n",
    "# To use a different image encoder, simply edit the 'pp.Extract_HE_patches_representaion' function.\n",
    "adata1 = pp.Extract_HE_patches_representaion(he_patches, store_key='he', adata=adata1, image_encoder='uni', \\\n",
    "                                            device=device)\n",
    "\n",
    "# To save time, we provide preprocessed H&E visual features, available in Tutorial 1. \n",
    "# Just replace the code above with this one-liner.\n",
    "# adata1 = sc.read_h5ad(preprocessed_slice_one)\n",
    "\n",
    "# preprocess slice 2\n",
    "file_path2 = './datasets/Human_Breast_Cancer_Rep2/cell_feature_matrix.h5'\n",
    "obs_path2 = './datasets/Human_Breast_Cancer_Rep2/cells.csv'\n",
    "img_path2 = './datasets/Human_Breast_Cancer_Rep2/Xenium_FFPE_Human_Breast_Cancer_Rep2_he_image.ome.tif'\n",
    "transform_mtx_path2 = './datasets/Human_Breast_Cancer_Rep2/Xenium_FFPE_Human_Breast_Cancer_Rep2_he_imagealignment.csv'\n",
    "\n",
    "adata2 = pp.Read_Xenium(file_path2, obs_path2)    \n",
    "adata2 = pp.Preprocess_adata(adata2)\n",
    "img, scale = pp.Read_HE_image(img_path2)\n",
    "print('read H&E image successfully')\n",
    "\n",
    "transform_mtx = pd.read_csv(transform_mtx_path2, header=None).values\n",
    "adata2 = pp.Register_physical_to_pixel(adata2, transform_mtx, scale=scale)\n",
    "he_patches, adata2 = pp.Tiling_HE_patches(resolution, adata2, img)\n",
    "adata2 = pp.Extract_HE_patches_representaion(he_patches, store_key='he', adata=adata2, image_encoder='uni', \\\n",
    "                                            device=device)\n",
    "# Similarly, if you would like to use our preprocessed visual features, you can apply the following code snippet.\n",
    "# adata2 = sc.read_h5ad(preprocess_slice_two)\n",
    "\n",
    "# use the SpatialEx\n",
    "model = Train_SpatialEx(adata1, adata2, device=device, epochs=500)\n",
    "model.train()"
   ]
  },
  {
   "cell_type": "markdown",
   "id": "c7ab5ebd-ac9d-44ca-a98f-0b33b4c9092e",
   "metadata": {},
   "source": [
    "## 1.2 Compute the metrics"
   ]
  },
  {
   "cell_type": "code",
   "execution_count": null,
   "id": "9058387b-9b9e-4a08-ab21-59e2272dd9c7",
   "metadata": {},
   "outputs": [],
   "source": [
    "panel_1b = pd.read_csv('./results/HE_to_omics_panel1b.csv', index_col=0)\n",
    "panel_2a = pd.read_csv('./results/HE_to_omics_panel2a.csv', index_col=0)\n",
    "panel_1b.index, panel_2a.index = panel_1b.index.astype(str), panel_2a.index.astype(str)\n",
    "\n",
    "# compute the metrics for slice 1\n",
    "graph = pp.Build_graph(adata1.obsm['spatial'], graph_type='knn', weighted='gaussian', \\\n",
    "                       apply_normalize='row', type='coo')\n",
    "cs_sg, cs_reduce_sg = Compute_metrics(adata1.X, panel_1b, metric='cosine_similarity')\n",
    "ssim, ssim_reduce = Compute_metrics(adata1.X, panel_1b, metric='ssim', graph=graph)\n",
    "pcc, pcc_reduce = Compute_metrics(adata1.X, panel_1b, metric='pcc')\n",
    "cmd, cmd_reduce = Compute_metrics(adata1.X, panel_1b, metric='cmd')\n",
    "print('Evaluation of the Slice1 in gene-level, cosine similarity: ', cs_reduce_sg, \\\n",
    "      ' ssim: ', ssim_reduce, ' pcc: ', pcc_reduce, ' cmd: ', cmd_reduce)     \n",
    "\n",
    "# compute the metrics for slice 2\n",
    "graph = pp.Build_graph(adata2.obsm['spatial'], graph_type='knn', weighted='gaussian', \\\n",
    "                       apply_normalize='row', type='coo')\n",
    "cs_sg, cs_reduce_sg = Compute_metrics(adata2.X, panel_2a, metric='cosine_similarity')\n",
    "ssim, ssim_reduce = Compute_metrics(adata2.X, panel_2a, metric='ssim', graph=graph)\n",
    "pcc, pcc_reduce = Compute_metrics(adata2.X, panel_2a, metric='pcc')\n",
    "cmd, cmd_reduce = Compute_metrics(adata2.X, panel_2a, metric='cmd')\n",
    "print('Evaluation of the Slice2 in gene-level, cosine similarity: ', cs_reduce_sg, \\\n",
    "      ' ssim: ', ssim_reduce, ' pcc: ', pcc_reduce, ' cmd: ', cmd_reduce)"
   ]
  },
  {
   "cell_type": "markdown",
   "id": "978eec1c-c937-40d7-93e3-eecbefa63935",
   "metadata": {},
   "source": [
    "## **2. SpatialEx+ Enables Larger Panel Spatial Analysis through Panel Diagonal Integration**"
   ]
  },
  {
   "cell_type": "markdown",
   "id": "e7a0ce2e-801e-4845-9018-a9f81461cc25",
   "metadata": {},
   "source": [
    "### 2.1 Train the model"
   ]
  },
  {
   "cell_type": "code",
   "execution_count": null,
   "id": "71bfab20-d06c-4683-91f0-552a29660d46",
   "metadata": {},
   "outputs": [],
   "source": [
    "# preprocess slice 1\n",
    "file_path1 = './datasets/Human_Breast_Cancer_Rep1/cell_feature_matrix.h5'\n",
    "obs_path1 = './datasets/Human_Breast_Cancer_Rep1/cells.csv'\n",
    "img_path1 = './datasets/Human_Breast_Cancer_Rep1/Xenium_FFPE_Human_Breast_Cancer_Rep1_he_image.ome.tif'\n",
    "transform_mtx_path1 = './datasets/Human_Breast_Cancer_Rep1/Xenium_FFPE_Human_Breast_Cancer_Rep1_he_imagealignment.csv'\n",
    "resolution = 64\n",
    "device = 'cuda'\n",
    "\n",
    "# set the panel\n",
    "selection = pd.read_csv('./datasets/Selection_by_name.csv', index_col=0)\n",
    "panelA = selection.index[selection['slice1']].tolist()\n",
    "panelB = selection.index[selection['slice2']].tolist()\n",
    "\n",
    "adata1 = pp.Read_Xenium(file_path1, obs_path1)\n",
    "adata1 = pp.Preprocess_adata(adata1, selected_genes=panelA)\n",
    "img, scale = pp.Read_HE_image(img_path1)\n",
    "\n",
    "transform_mtx = pd.read_csv(transform_mtx_path1, header=None).values\n",
    "adata1 = pp.Register_physical_to_pixel(adata1, transform_mtx, scale=scale)\n",
    "he_patches, adata1 = pp.Tiling_HE_patches(resolution, adata1, img)\n",
    "adata1 = pp.Extract_HE_patches_representaion(he_patches, store_key='he', adata=adata1, image_encoder='uni', \\\n",
    "                                            device=device)\n",
    "# If you would like to use our preprocessed visual features, you can apply the following code snippet.\n",
    "# adata1 = sc.read_h5ad(preprocess_slice_one)\n",
    "\n",
    "# preprocess slice 2\n",
    "file_path2 = './datasets/Human_Breast_Cancer_Rep2/cell_feature_matrix.h5'\n",
    "obs_path2 = './datasets/Human_Breast_Cancer_Rep2/cells.csv'\n",
    "img_path2 = './datasets/Human_Breast_Cancer_Rep2/Xenium_FFPE_Human_Breast_Cancer_Rep2_he_image.ome.tif'\n",
    "transform_mtx_path2 = './datasets/Human_Breast_Cancer_Rep2/Xenium_FFPE_Human_Breast_Cancer_Rep2_he_imagealignment.csv'\n",
    "\n",
    "adata2 = pp.Read_Xenium(file_path2, obs_path2)\n",
    "adata2 = pp.Preprocess_adata(adata2, selected_genes=panelB)\n",
    "img, scale = pp.Read_HE_image(img_path2)\n",
    "\n",
    "transform_mtx = pd.read_csv(transform_mtx_path2, header=None).values\n",
    "adata2 = pp.Register_physical_to_pixel(adata2, transform_mtx, scale=scale)\n",
    "he_patches, adata2 = pp.Tiling_HE_patches(resolution, adata2, img)\n",
    "adata2 = pp.Extract_HE_patches_representaion(he_patches, store_key='he', adata=adata2, image_encoder='uni', \\\n",
    "                                            device=device)\n",
    "# Similarly, if you would like to use our preprocessed visual features, you can apply the following code snippet.\n",
    "# adata2 = sc.read_h5ad(preprocess_slice_two)\n",
    "\n",
    "# use the SpatialEx+\n",
    "model = Train_SpatialExP(adata1, adata2, device=device, epochs=500)\n",
    "model.train()"
   ]
  },
  {
   "cell_type": "markdown",
   "id": "2c4d5edf-a7c9-4b14-b736-cc72e2971cba",
   "metadata": {},
   "source": [
    "### 2.2 Compute the metrics"
   ]
  },
  {
   "cell_type": "code",
   "execution_count": null,
   "id": "90d2a6bc-4e78-41c0-9820-4f09a868429a",
   "metadata": {},
   "outputs": [],
   "source": [
    "panel_1b = np.load('./results/omics1.npy')\n",
    "panel_2a = np.load('./results/omics2.npy')\n",
    "index_1 = adata1.obs_names\n",
    "index_2 = adata2.obs_names\n",
    "\n",
    "# build the ground truth for panelB of slice 1\n",
    "adata1 = pp.Read_Xenium(file_path1, obs_path1)\n",
    "adata1 = pp.Preprocess_adata(adata1, cell_mRNA_cutoff=0, selected_genes=panelB)\n",
    "adata1 = adata1[index_1]\n",
    "\n",
    "# compute the metrics for slice 1\n",
    "graph = pp.Build_graph(adata1.obsm['spatial'], graph_type='knn', weighted='gaussian', \\\n",
    "                       apply_normalize='row', type='coo')\n",
    "cs_sg, cs_reduce_sg = Compute_metrics(adata1.X, panel_1b, metric='cosine_similarity')\n",
    "ssim, ssim_reduce = Compute_metrics(adata1.X, panel_1b, metric='ssim', graph=graph)\n",
    "pcc, pcc_reduce = Compute_metrics(adata1.X, panel_1b, metric='pcc')\n",
    "cmd, cmd_reduce = Compute_metrics(adata1.X, panel_1b, metric='cmd')\n",
    "print('Evaluation of the Slice1 in gene-level, cosine similarity: ', cs_reduce_sg, \\\n",
    "      ' ssim: ', ssim_reduce, ' pcc: ', pcc_reduce, ' cmd: ', cmd_reduce)     \n",
    "\n",
    "# build the ground truth for panelA of slice 2\n",
    "adata2 = pp.Read_Xenium(file_path2, obs_path2)\n",
    "adata2 = pp.Preprocess_adata(adata2, cell_mRNA_cutoff=0, selected_genes=panelA)\n",
    "adata2 = adata2[index_2]\n",
    "\n",
    "# compute the metrics for slice 2\n",
    "graph = pp.Build_graph(adata2.obsm['spatial'], graph_type='knn', weighted='gaussian', \\\n",
    "                       apply_normalize='row', type='coo')\n",
    "cs_sg, cs_reduce_sg = Compute_metrics(adata2.X, panel_2a, metric='cosine_similarity')\n",
    "ssim, ssim_reduce = Compute_metrics(adata2.X, panel_2a, metric='ssim', graph=graph)\n",
    "pcc, pcc_reduce = Compute_metrics(adata2.X, panel_2a, metric='pcc')\n",
    "cmd, cmd_reduce = Compute_metrics(adata2.X, panel_2a, metric='cmd')\n",
    "print('Evaluation of the Slice2 in gene-level, cosine similarity: ', cs_reduce_sg, \\\n",
    "      ' ssim: ', ssim_reduce, ' pcc: ', pcc_reduce, ' cmd: ', cmd_reduce)"
   ]
  },
  {
   "cell_type": "markdown",
   "id": "6b594a08-2b7d-4328-b435-118b5fe6e6f4",
   "metadata": {},
   "source": [
    "## **3. Scalability on Million-Cell Tissue Sections**"
   ]
  },
  {
   "cell_type": "markdown",
   "id": "9a850f7c-bb7b-44c4-a96f-706c5b4eb0f2",
   "metadata": {},
   "source": [
    "### 3.1 Train the model"
   ]
  },
  {
   "cell_type": "code",
   "execution_count": null,
   "id": "c11f7be3-ea68-4ea6-a77d-9411512b3584",
   "metadata": {},
   "outputs": [],
   "source": [
    "# set the panel\n",
    "panel_selection = pd.read_csv('./datasets/Big_by_name.csv', index_col=0)\n",
    "panelA = panel_selection.index[panel_selection['panelA']==1]\n",
    "panelB = panel_selection.index[panel_selection['panelB']==1]\n",
    "\n",
    "# preprocess slice 1\n",
    "file_path1 = './datasets/Human_Breast_IDC_Big1/cell_feature_matrix.h5'\n",
    "obs_path1 = './datasets/Human_Breast_IDC_Big1/cells.csv'\n",
    "img_path1 = './datasets/Human_Breast_IDC_Big1/Xenium_V1_FFPE_Human_Breast_IDC_Big_1_he_unaligned_image.ome.tif'\n",
    "transform_mtx_path1 = './datasets/Human_Breast_IDC_Big1/Xenium_V1_FFPE_Human_Breast_IDC_Big_1_he_unaligned_image_matrix.csv'\n",
    "resolution = 64\n",
    "device = 'cuda'\n",
    "\n",
    "adata1 = pp.Read_Xenium(file_path1, obs_path1)\n",
    "adata1 = pp.Preprocess_adata(adata1, selected_genes=panelA)\n",
    "panel_A1 = torch.Tensor(adata1.X)\n",
    "\n",
    "img, scale = pp.Read_HE_image(img_path1)\n",
    "trans_mtx = pd.read_csv(transform_mtx_path1, header=None).values\n",
    "adata1 = pp.Register_physical_to_pixel(adata1, trans_mtx, scale)\n",
    "patches, adata1 = pp.Tiling_HE_patches(resolution, adata1, img)\n",
    "adata1 = pp.Extract_HE_patches_representaion(patches, store_key='he', adata=adata1, image_encoder='uni', \\\n",
    "                                            device=device)\n",
    "\n",
    "# preprocess slice 2\n",
    "file_path2 = './datasets/Human_Breast_IDC_Big2/cell_feature_matrix.h5'\n",
    "obs_path2 = './datasets/Human_Breast_IDC_Big2/cells.csv'\n",
    "img_path2 = './datasets/Human_Breast_IDC_Big2/Xenium_V1_FFPE_Human_Breast_IDC_Big_2_he_unaligned_image.ome.tif'\n",
    "transform_mtx_path2 = './datasets/Human_Breast_IDC_Big2/Xenium_V1_FFPE_Human_Breast_IDC_Big_2_he_imagealignment.csv'\n",
    "\n",
    "adata2 = pp.Read_Xenium(file_path2, obs_path2)\n",
    "adata2 = pp.Preprocess_adata(adata2, selected_genes=panelB)\n",
    "panel_B2 = torch.Tensor(adata2.X)\n",
    "\n",
    "img, scale = pp.Read_HE_image(img_path2)\n",
    "trans_mtx = pd.read_csv(transform_mtx_path2, header=None).values\n",
    "adata2 = pp.Register_physical_to_pixel(adata2, trans_mtx, scale)\n",
    "patches, adata1 = pp.Tiling_HE_patches(resolution, adata2, img)\n",
    "adata2 = pp.Extract_HE_patches_representaion(patches, store_key='he', adata=adata2, image_encoder='uni', \\\n",
    "                                            device=device)\n",
    "\n",
    "# use the SpatialEx+\n",
    "model = Train_SpatialExP_Big(adata1, adata2, device=device, epochs=500, batch_num=50)\n",
    "model.train()"
   ]
  },
  {
   "cell_type": "markdown",
   "id": "f400f9c1-aed0-4d41-81e0-730744dc568d",
   "metadata": {},
   "source": [
    "### 3.2 Compute the metrics"
   ]
  },
  {
   "cell_type": "code",
   "execution_count": null,
   "id": "1a46255e-df5e-43c2-aefe-7ffb0219510c",
   "metadata": {},
   "outputs": [],
   "source": [
    "panelB1 = np.load('./results/big_panel_B1.npy')\n",
    "panelA2 = np.load('./results/big_panel_A2.npy')\n",
    "index_1 = adata1.obs_names\n",
    "index_2 = adata2.obs_names\n",
    "\n",
    "# build the ground truth for panelB of slice 1\n",
    "adata1 = pp.Read_Xenium(file_path1, obs_path1)\n",
    "adata1 = pp.Preprocess_adata(adata1, cell_mRNA_cutoff=0, selected_genes=panelB)\n",
    "adata1 = adata1[index_1]\n",
    "\n",
    "# compute the metrics for slice 1\n",
    "graph = pp.Build_graph(adata1.obsm['spatial'], graph_type='knn', weighted='gaussian', \\\n",
    "                       apply_normalize='row', type='csr')\n",
    "cs_sg, cs_reduce_sg = Compute_metrics(adata1.X, panelB1, metric='cosine_similarity')\n",
    "ssim, ssim_reduce = Compute_metrics(adata1.X, panelB1, metric='ssim', graph=graph)\n",
    "pcc, pcc_reduce = Compute_metrics(adata1.X, panelB1, metric='pcc')\n",
    "cmd, cmd_reduce = Compute_metrics(adata1.X, panelB1, metric='cmd')\n",
    "print('Evaluation of the Slice1 in gene-level, cosine similarity: ', cs_reduce_sg, \\\n",
    "      ' ssim: ', ssim_reduce, ' pcc: ', pcc_reduce, ' cmd: ', cmd_reduce)     \n",
    "\n",
    "# build the ground truth for panelA of slice 2\n",
    "adata2 = pp.Read_Xenium(file_path2, obs_path2)\n",
    "adata2 = pp.Preprocess_adata(adata2, cell_mRNA_cutoff=0, selected_genes=panelA)\n",
    "adata2 = adata1[index_2]\n",
    "\n",
    "# compute the metrics for slice 2\n",
    "graph = pp.Build_graph(adata2.obsm['spatial'], graph_type='knn', weighted='gaussian', \\\n",
    "                       apply_normalize='row', type='csr')\n",
    "cs_sg, cs_reduce_sg = Compute_metrics(adata2.X, panelA2, metric='cosine_similarity')\n",
    "ssim, ssim_reduce = Compute_metrics(adata2.X, panelA2, metric='ssim', graph=graph)\n",
    "pcc, pcc_reduce = Compute_metrics(adata2.X, panelA2, metric='pcc')\n",
    "cmd, cmd_reduce = Compute_metrics(adata2.X, panelA2, metric='cmd')\n",
    "print('Evaluation of the Slice2 in gene-level, cosine similarity: ', cs_reduce_sg, \\\n",
    "      ' ssim: ', ssim_reduce, ' pcc: ', pcc_reduce, ' cmd: ', cmd_reduce)"
   ]
  },
  {
   "cell_type": "markdown",
   "id": "0b2d4f2d-50e1-4bde-91ce-83e4a2f51af0",
   "metadata": {},
   "source": [
    "## **SpatialEx+ Enables Spatial Multi-omics through Omics Diagonal Integration**"
   ]
  },
  {
   "cell_type": "markdown",
   "id": "92c735c0-c45e-44d6-bb38-a0cfa8593fac",
   "metadata": {},
   "source": [
    "### **4. Transcriptomics-Proteomics**"
   ]
  },
  {
   "cell_type": "markdown",
   "id": "cc561bcb-aa20-43e4-9dbe-0dd75c57f777",
   "metadata": {},
   "source": [
    "#### 4.1 Train the model"
   ]
  },
  {
   "cell_type": "code",
   "execution_count": null,
   "id": "eb16ca43-7261-460f-b93a-a73f1555424b",
   "metadata": {},
   "outputs": [],
   "source": [
    "# preprocess the transcriptomics\n",
    "file_path1 = './datasets/Human_Breast_Cancer_Rep2/cell_feature_matrix.h5'\n",
    "obs_path1 = './datasets/Human_Breast_Cancer_Rep2/cells.csv'\n",
    "img_path1 = './datasets/Human_Breast_Cancer_Rep2/Xenium_FFPE_Human_Breast_Cancer_Rep2_he_image.ome.tif'\n",
    "transform_mtx_path1 = './datasets/Human_Breast_Cancer_Rep2/Xenium_FFPE_Human_Breast_Cancer_Rep2_he_imagealignment.csv'\n",
    "resolution = 64\n",
    "device = 'cuda'\n",
    "\n",
    "adata1 = pp.Read_Xenium(file_path1, obs_path1)\n",
    "adata1 = pp.Preprocess_adata(adata1)\n",
    "img, scale = pp.Read_HE_image(img_path1)\n",
    "transform_mtx = pd.read_csv(transform_mtx_path1, header=None).values\n",
    "adata1 = pp.Register_physical_to_pixel(adata1, transform_mtx, scale)\n",
    "he_patches, adata1 = pp.Tiling_HE_patches(resolution, adata1, img)\n",
    "adata1 = pp.Extract_HE_patches_representaion(he_patches, 'he', adata1, image_encoder='uni', \\\n",
    "                                            device=device)\n",
    "\n",
    "# preprocess the proteomics\n",
    "file_path2 = './datasets/Human_Breast_Cancer_Rep1/cell_protein_matrix.h5ad'\n",
    "obs_path2 = './datasets/Human_Breast_Cancer_Rep1/cells.csv'\n",
    "img_path2 = './datasets/Human_Breast_Cancer_Rep1/Xenium_FFPE_Human_Breast_Cancer_Rep1_he_image.ome.tif'\n",
    "transform_mtx_path2 = './datasets/Human_Breast_Cancer_Rep1/Xenium_FFPE_Human_Breast_Cancer_Rep1_he_imagealignment.csv'\n",
    "\n",
    "adata2 = sc.read_h5ad(file_path2)\n",
    "adata2.var_names = adata2.var_names.astype(str)\n",
    "adata2.obs_names = adata2.obs_names.astype(str)\n",
    "obs = pd.read_csv(obs_path2, index_col=0)\n",
    "obs.index = obs.index.astype(str)\n",
    "adata2 = adata2[obs.index]\n",
    "adata2.obs = obs\n",
    "adata2.obsm['spatial'] = adata2.obs[['x_centroid', 'y_centroid']].values\n",
    "adata2.var_names_make_unique()\n",
    "sc.pp.scale(adata2)\n",
    "\n",
    "img, scale = pp.Read_HE_image(img_path2)\n",
    "trans_mtx = pd.read_csv(transform_mtx_path2, header=None).values\n",
    "adata2 = pp.Register_physical_to_pixel(adata2, trans_mtx, scale)\n",
    "he_patches, adata2 = pp.Tiling_HE_patches(resolution, adata2, img)\n",
    "adata2 = pp.Extract_HE_patches_representaion(he_patches, 'he', adata2, image_encoder='uni', \\\n",
    "                                            device=device)   \n",
    "\n",
    "# use the SpatialEx+\n",
    "model = Train_SpatialExP(adata1, adata2, device=device, epochs=500)\n",
    "model.train()"
   ]
  },
  {
   "cell_type": "markdown",
   "id": "4aaa1cb6-7f1c-4585-b344-cc78155eb41e",
   "metadata": {},
   "source": [
    "#### 4.2 Compute the metrics"
   ]
  },
  {
   "cell_type": "code",
   "execution_count": null,
   "id": "82b706e7-9388-4b1d-8e57-7aff81c7b944",
   "metadata": {},
   "outputs": [],
   "source": [
    "panel_1b = np.load('./results/omics1.npy')\n",
    "panel_2a = np.load('./results/omics2.npy')\n",
    "index_2 = adata2.obs_names\n",
    "\n",
    "# We can only compute the metrics for slice 2 due to the missing proteomics of slice 1\n",
    "# build the ground truth for panelA of slice 2\n",
    "file_path2 = './datasets/Human_Breast_Cancer_Rep1/cell_feature_matrix.h5'\n",
    "obs_path2 = './datasets/Human_Breast_Cancer_Rep1/cells.csv'\n",
    "\n",
    "adata2 = pp.Read_Xenium(file_path2, obs_path2)\n",
    "adata2 = pp.Preprocess_adata(adata2, cell_mRNA_cutoff=0)\n",
    "adata2 = adata2[index_2]\n",
    "\n",
    "# compute the metrics for slice 2\n",
    "graph = pp.Build_graph(adata2.obsm['spatial'], graph_type='knn', weighted='gaussian', \\\n",
    "                       apply_normalize='row', type='coo')\n",
    "cs_sg, cs_reduce_sg = Compute_metrics(adata2.X, panel_2a, metric='cosine_similarity')\n",
    "ssim, ssim_reduce = Compute_metrics(adata2.X, panel_2a, metric='ssim', graph=graph)\n",
    "pcc, pcc_reduce = Compute_metrics(adata2.X, panel_2a, metric='pcc')\n",
    "cmd, cmd_reduce = Compute_metrics(adata2.X, panel_2a, metric='cmd')\n",
    "print('Evaluation of the transcriptomics of the Slice2 in gene-level, cosine similarity: ', cs_reduce_sg, \\\n",
    "      ' ssim: ', ssim_reduce, ' pcc: ', pcc_reduce, ' cmd: ', cmd_reduce)"
   ]
  },
  {
   "cell_type": "markdown",
   "id": "b4f198f1-c471-4244-ab26-ebfaf287b9e8",
   "metadata": {},
   "source": [
    "### **5. Transcriptomics-Metabolomics**"
   ]
  },
  {
   "cell_type": "markdown",
   "id": "87bb0113-6851-4012-9d3e-7af6dd20590f",
   "metadata": {},
   "source": [
    "#### 5.1 Train the model"
   ]
  },
  {
   "cell_type": "code",
   "execution_count": null,
   "id": "61007eef-d1ab-4823-a485-1433986cbb02",
   "metadata": {},
   "outputs": [],
   "source": [
    "# preprocess the metabolomics\n",
    "file_path1 = './datasets/Multi_modality/metabolite_V11L12-109_C1.h5ad'\n",
    "img_path1 = './datasets/Multi_modality/220506_MSi_V11L12-109_C1.jpg'\n",
    "resolution = 580\n",
    "device = 'cuda'\n",
    "num_features = [100, 2000] # The number of chosen genes for metabolomics and transcriptomics\n",
    "\n",
    "adata1 = sc.read_h5ad(file_path1)\n",
    "adata1.var_names = np.array(adata1.var['metabolism'].values)\n",
    "adata1.var_names_make_unique()\n",
    "adata1.obs_names_make_unique()\n",
    "sc.pp.filter_genes(adata1, min_cells=1)\n",
    "adata1 = pp.Preprocess_adata(adata1, cell_mRNA_cutoff=0, scale=True)\n",
    "mz_selected = np.load('./datasets/Metabolites_panel.npy', allow_pickle=True)\n",
    "adata1 = adata1[:, mz_selected]\n",
    "spot_A1 = torch.Tensor(adata1.X)\n",
    "\n",
    "img, _ = pp.Read_HE_image(img_path1, suffix='.jpg')\n",
    "he_patches, adata1 = pp.Tiling_HE_patches(resolution, adata1, img, key='spatial')\n",
    "adata1 = pp.Extract_HE_patches_representaion(he_patches, 'he', adata1, image_encoder='uni', \\\n",
    "                                            device=device)\n",
    "\n",
    "# preprocess the transcriptomics\n",
    "file_path2 = './datasets/Multi_modality/rna_V11L12-109_B1.h5ad'\n",
    "img_path2 = './datasets/Multi_modality/220506_MSi_V11L12-109_B1.jpg'\n",
    "\n",
    "adata2 = sc.read_h5ad(file_path2)\n",
    "adata2.var_names_make_unique()\n",
    "adata2.obs_names_make_unique()\n",
    "sc.pp.filter_genes(adata2, min_cells=1)\n",
    "sc.pp.log1p(adata2)\n",
    "adata2 = pp.Preprocess_adata(adata2, cell_mRNA_cutoff=0, scale=True)\n",
    "rna = np.load('./datasets/RNA_panel.npy', allow_pickle=True)\n",
    "adata2 = adata2[:, rna]\n",
    "\n",
    "img, _ = pp.Read_HE_image(img_path2, suffix='.jpg')\n",
    "he_patches, adata2 = pp.Tiling_HE_patches(resolution, adata2, img, key='spatial')\n",
    "adata2 = pp.Extract_HE_patches_representaion(he_patches, 'he', adata2, image_encoder='uni', \\\n",
    "                                            device=device)\n",
    "\n",
    "# use the SpatialEx+\n",
    "model = Train_SpatialExP(adata1, adata2, device=device, epochs=600)\n",
    "model.train()"
   ]
  },
  {
   "cell_type": "markdown",
   "id": "240185ab-0ba6-4f06-ad32-6f936072171b",
   "metadata": {},
   "source": [
    "### 5.2 Compute the metrics"
   ]
  },
  {
   "cell_type": "markdown",
   "id": "0b292c45-1234-473e-bad7-7b3d07a1b1ab",
   "metadata": {},
   "source": [
    "#### 5.2.1 Compute the metrics for Slice 1"
   ]
  },
  {
   "cell_type": "code",
   "execution_count": null,
   "id": "ab2aee6c-5f13-439d-81de-d7aaf807b668",
   "metadata": {},
   "outputs": [],
   "source": [
    "panelB1 = np.load('./results/omics1.npy')\n",
    "panelB1 = np.maximum(panelB1, 0)\n",
    "\n",
    "adata = sc.read_h5ad('./datasets/Multi_modality/rna_V11L12-109_C1.h5ad')\n",
    "adata.var_names_make_unique()\n",
    "adata.obs_names_make_unique()\n",
    "sc.pp.filter_genes(adata, min_cells=1)\n",
    "sc.pp.log1p(adata)\n",
    "adata = pp.Preprocess_adata(adata, cell_mRNA_cutoff=0, scale=True)\n",
    "adata = adata[adata1.obs_names, rna]\n",
    "\n",
    "cs_sg, cs_reduce_sg = Compute_metrics(adata.X, panelB1, metric='cosine_similarity', reduce='mean')  \n",
    "pcc, pcc_reduce = Compute_metrics(adata.X, panelB1, metric='pcc', reduce='mean')\n",
    "cmd, cmd_reduce = Compute_metrics(adata.X, panelB1, metric='cmd', reduce='mean')\n",
    "print('cosine similarity: ', cs_reduce_sg, ' pcc: ', pcc_reduce, 'cmd: ', cmd_reduce)"
   ]
  },
  {
   "cell_type": "markdown",
   "id": "fe102f15-ae52-4e2a-a865-02d310eb22ec",
   "metadata": {},
   "source": [
    "#### 5.2.2 Compute the metrics for Slice 2"
   ]
  },
  {
   "cell_type": "code",
   "execution_count": null,
   "id": "b9258d55-c764-4e0b-bc0c-22ff7d5b67c4",
   "metadata": {},
   "outputs": [],
   "source": [
    "panelA2 = np.load('./results/omics2.npy')\n",
    "panelA2 = np.maximum(panelA2, 0)\n",
    "\n",
    "adata = sc.read_h5ad('./datasets/Multi_modality/metabolite_V11L12-109_B1.h5ad')\n",
    "adata.var_names = np.array(adata.var['metabolism'].values)\n",
    "adata.var_names_make_unique()\n",
    "adata.obs_names_make_unique()\n",
    "sc.pp.filter_genes(adata, min_cells=1)\n",
    "adata = pp.Preprocess_adata(adata, cell_mRNA_cutoff=0, scale=True)\n",
    "adata = adata[adata2.obs_names, mz_selected]\n",
    "\n",
    "cs_sg, cs_reduce_sg = Compute_metrics(adata.X, panelA2, metric='cosine_similarity', reduce='mean')  \n",
    "pcc, pcc_reduce = Compute_metrics(adata.X, panelA2, metric='pcc', reduce='mean')\n",
    "cmd, cmd_reduce = Compute_metrics(adata.X, panelA2, metric='cmd', reduce='mean')\n",
    "print('cosine similarity: ', cs_reduce_sg, ' pcc: ', pcc_reduce, 'cmd: ', cmd_reduce)"
   ]
  }
 ],
 "metadata": {
  "kernelspec": {
   "display_name": "Python 3 (ipykernel)",
   "language": "python",
   "name": "python3"
  },
  "language_info": {
   "codemirror_mode": {
    "name": "ipython",
    "version": 3
   },
   "file_extension": ".py",
   "mimetype": "text/x-python",
   "name": "python",
   "nbconvert_exporter": "python",
   "pygments_lexer": "ipython3",
   "version": "3.8.19"
  }
 },
 "nbformat": 4,
 "nbformat_minor": 5
}
